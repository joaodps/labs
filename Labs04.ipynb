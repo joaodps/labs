{
 "cells": [
  {
   "cell_type": "code",
   "execution_count": 1,
   "metadata": {},
   "outputs": [
    {
     "name": "stdout",
     "output_type": "stream",
     "text": [
      "[1000.0, 1100.0, 1210.0000000000002, 1331.0000000000005, 1464.1000000000004, 1610.5100000000004]\n"
     ]
    }
   ],
   "source": [
    "#1\n",
    "salesinit=1000\n",
    "rate=0.1\n",
    "n=6\n",
    "sales=[]\n",
    "for i in range(0,n):\n",
    "    sales.append(salesinit*((1+rate)**i))\n",
    "    \n",
    "print(sales)"
   ]
  },
  {
   "cell_type": "code",
   "execution_count": 2,
   "metadata": {},
   "outputs": [
    {
     "name": "stdout",
     "output_type": "stream",
     "text": [
      "[300.00000000000006, 330.00000000000006, 363.0000000000001, 399.3000000000002, 439.2300000000002, 483.1530000000002]\n"
     ]
    }
   ],
   "source": [
    "#2\n",
    "PM=0.7\n",
    "costs=[]\n",
    "for i in sales:\n",
    "    costs.append(i*(1-PM))\n",
    "    \n",
    "print(costs) "
   ]
  },
  {
   "cell_type": "code",
   "execution_count": 3,
   "metadata": {},
   "outputs": [
    {
     "name": "stdout",
     "output_type": "stream",
     "text": [
      "[700.0, 770.0, 847.0000000000001, 931.7000000000003, 1024.8700000000001, 1127.3570000000002]\n"
     ]
    }
   ],
   "source": [
    "#3\n",
    "profits=[]\n",
    "for i in range(0,n):\n",
    "    profits.append(sales[i]-costs[i])\n",
    "    \n",
    "print(profits)    "
   ]
  },
  {
   "cell_type": "code",
   "execution_count": 4,
   "metadata": {},
   "outputs": [
    {
     "name": "stdout",
     "output_type": "stream",
     "text": [
      "[200.0, 270.0, 347.0000000000001, 431.7000000000003, 524.8700000000001, 627.3570000000002]\n"
     ]
    }
   ],
   "source": [
    "#4\n",
    "PM=0.7\n",
    "fixcost=500\n",
    "newprofit=[]\n",
    "for i in sales:\n",
    "    newprofit.append(i*PM-fixcost)\n",
    "    \n",
    "print(newprofit)"
   ]
  },
  {
   "cell_type": "code",
   "execution_count": 11,
   "metadata": {},
   "outputs": [
    {
     "name": "stdout",
     "output_type": "stream",
     "text": [
      "[1160, 1086, 532, 1037, 940, 1838]\n"
     ]
    }
   ],
   "source": [
    "#5\n",
    "import random\n",
    "\n",
    "newsales=[]\n",
    "\n",
    "for i in range(0,len(newprofit)):\n",
    "    newsales.append(random.randint(200,2000))\n",
    "    \n",
    "print(newsales)    "
   ]
  },
  {
   "cell_type": "code",
   "execution_count": 12,
   "metadata": {},
   "outputs": [
    {
     "name": "stdout",
     "output_type": "stream",
     "text": [
      "[312.0, 260.19999999999993, -127.60000000000002, 225.89999999999998, 158.0, 786.5999999999999]\n"
     ]
    }
   ],
   "source": [
    "#6\n",
    "margin=0.7\n",
    "fixcost=500\n",
    "newprofit=[]\n",
    "for i in range(0,n):\n",
    "    newprofit.append((newsales[i]*margin)-fixcost)\n",
    "print(newprofit)    "
   ]
  },
  {
   "cell_type": "code",
   "execution_count": 13,
   "metadata": {},
   "outputs": [
    {
     "name": "stdout",
     "output_type": "stream",
     "text": [
      "[1, 1, 0, 1, 1, 1]\n",
      "83.33333333333334\n"
     ]
    }
   ],
   "source": [
    "#7\n",
    "profyear=[]\n",
    "\n",
    "for i in newprofit:\n",
    "    if i>0:\n",
    "        profyear.append(1)\n",
    "    else: profyear.append(0)\n",
    "        \n",
    "print(profyear)\n",
    "\n",
    "percentageProfYear=sum(profyear)/len(profyear)*100\n",
    "\n",
    "print(percentageProfYear)"
   ]
  },
  {
   "cell_type": "code",
   "execution_count": 16,
   "metadata": {},
   "outputs": [
    {
     "data": {
      "image/png": "[encoded data removed]",
      "text/plain": [
       "<Figure size 432x288 with 1 Axes>"
      ]
     },
     "metadata": {
      "needs_background": "light"
     },
     "output_type": "display_data"
    }
   ],
   "source": [
    "import matplotlib.pyplot as plt\n",
    "plt.plot(sales)\n",
    "plt.plot(newsales)\n",
    "plt.ylabel('sales')\n",
    "plt.xlabel('years')\n",
    "plt.show()"
   ]
  },
  {
   "cell_type": "code",
   "execution_count": null,
   "metadata": {},
   "outputs": [],
   "source": []
  }
 ],
 "metadata": {
  "kernelspec": {
   "display_name": "Python 3",
   "language": "python",
   "name": "python3"
  },
  "language_info": {
   "codemirror_mode": {
    "name": "ipython",
    "version": 3
   },
   "file_extension": ".py",
   "mimetype": "text/x-python",
   "name": "python",
   "nbconvert_exporter": "python",
   "pygments_lexer": "ipython3",
   "version": "3.7.4"
  }
 },
 "nbformat": 4,
 "nbformat_minor": 2
}
