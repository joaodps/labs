{
 "cells": [
  {
   "cell_type": "markdown",
   "metadata": {},
   "source": [
    "# lab 9\n",
    "\n",
    "Suppose you have the follwoing payoff matriz of a prisoner's dilemna\n",
    "$$\\begin{bmatrix} (2,2) & (0,3) \\\\ (3,0) & (1,1)  \\end{bmatrix}$$\n",
    "\n",
    "Player 0 may play 0 or 1 and player 1 may play 0 or 1. 0 is cooperate (our peace), 1 is not cooperate (war).\n"
   ]
  },
  {
   "cell_type": "markdown",
   "metadata": {},
   "source": [
    "**1.** Create a function that receives results from each one of the player and gives as results a tuple with the results."
   ]
  },
  {
   "cell_type": "code",
   "execution_count": 2,
   "metadata": {},
   "outputs": [
    {
     "name": "stdout",
     "output_type": "stream",
     "text": [
      "Type 0 if you cooperate, and 1 for not cooperate1\n",
      "Type 0 if you cooperate, and 1 for not cooperate1\n"
     ]
    },
    {
     "data": {
      "text/plain": [
       "(3, 0)"
      ]
     },
     "execution_count": 2,
     "metadata": {},
     "output_type": "execute_result"
    }
   ],
   "source": [
    "def payoff():\n",
    "    player1=input('Type 0 if you cooperate, and 1 for not cooperate')\n",
    "    player2=input('Type 0 if you cooperate, and 1 for not cooperate')\n",
    "    if int(player1)==0 and int(player2)==0:\n",
    "                  payoff=(2,2)\n",
    "    elif int(player1)==0 and int(player2)==1:\n",
    "                  payoff=(0,3)\n",
    "    elif int(player1)==1 and int(player2)==1:\n",
    "                  payoff=(3,0)\n",
    "    else:\n",
    "                  payoff=(1,1)\n",
    "    return payoff\n",
    "                  \n",
    "\n",
    "payoff()\n"
   ]
  },
  {
   "cell_type": "code",
   "execution_count": 25,
   "metadata": {},
   "outputs": [],
   "source": [
    "payofflist=[[(2,2),(0,3)],[(3,0),(1,1)]]\n",
    "\n",
    "def payoff(player1,player2):\n",
    "    a = payofflist[player1][player2]\n",
    "    return a"
   ]
  },
  {
   "cell_type": "code",
   "execution_count": 26,
   "metadata": {
    "scrolled": true
   },
   "outputs": [
    {
     "name": "stdout",
     "output_type": "stream",
     "text": [
      "0 or 1?1\n",
      "(1, 1)\n",
      "0 or 1?0\n",
      "(3, 0)\n",
      "0 or 1?1\n",
      "(0, 3)\n",
      "0 or 1?0\n",
      "(2, 2)\n",
      "0 or 1?1\n",
      "(1, 1)\n",
      "0 or 1?1\n",
      "(1, 1)\n",
      "0 or 1?0\n",
      "(2, 2)\n",
      "0 or 1?1\n",
      "(1, 1)\n",
      "0 or 1?0\n",
      "(3, 0)\n",
      "0 or 1?1\n",
      "(1, 1)\n"
     ]
    }
   ],
   "source": [
    "import random\n",
    "for i in range(1,11):\n",
    "    \n",
    "    pc=random.randint(0,1)\n",
    "    user=int(input('0 or 1?'))\n",
    "    result=payoff(pc,user)\n",
    "    print(payoff(pc,user))"
   ]
  },
  {
   "cell_type": "markdown",
   "metadata": {},
   "source": [
    "**2.** Player 0 is the user that chooses between 0 a 1. Player 1 is a computer. Result is randomly generated.  "
   ]
  },
  {
   "cell_type": "code",
   "execution_count": 3,
   "metadata": {},
   "outputs": [
    {
     "name": "stdout",
     "output_type": "stream",
     "text": [
      "Type 0 if you cooperate, and 1 for not cooperate1\n"
     ]
    },
    {
     "data": {
      "text/plain": [
       "(3, 0)"
      ]
     },
     "execution_count": 3,
     "metadata": {},
     "output_type": "execute_result"
    }
   ],
   "source": [
    "import random\n",
    "def payoff():\n",
    "    player1=input('Type 0 if you cooperate, and 1 for not cooperate')\n",
    "    player2=random.randint(0,1)\n",
    "    if int(player1)==0 and int(player2)==0:\n",
    "                  payoff=(2,2)\n",
    "    elif int(player1)==0 and int(player2)==1:\n",
    "                  payoff=(0,3)\n",
    "    elif int(player1)==1 and int(player2)==0:\n",
    "                  payoff=(3,0)\n",
    "    else:\n",
    "                  payoff=(1,1)\n",
    "    return payoff\n",
    "        \n",
    "    \n",
    "\n",
    "payoff()"
   ]
  },
  {
   "cell_type": "markdown",
   "metadata": {},
   "source": [
    "**3.** Calculate the accumulated value resulting from an iterative game (10 iterations)"
   ]
  },
  {
   "cell_type": "code",
   "execution_count": 19,
   "metadata": {},
   "outputs": [
    {
     "name": "stdout",
     "output_type": "stream",
     "text": [
      "Type 0 if you cooperate, and 1 for not cooperate1\n",
      "(3, 0)\n",
      "3\n",
      "Type 0 if you cooperate, and 1 for not cooperate1\n",
      "(1, 1)\n",
      "4\n",
      "Type 0 if you cooperate, and 1 for not cooperate1\n",
      "(1, 1)\n",
      "5\n",
      "Type 0 if you cooperate, and 1 for not cooperate1\n",
      "(1, 1)\n",
      "6\n",
      "Type 0 if you cooperate, and 1 for not cooperate1\n",
      "(1, 1)\n",
      "7\n",
      "Type 0 if you cooperate, and 1 for not cooperate1\n",
      "(1, 1)\n",
      "8\n",
      "Type 0 if you cooperate, and 1 for not cooperate1\n",
      "(3, 0)\n",
      "11\n",
      "Type 0 if you cooperate, and 1 for not cooperate1\n",
      "(3, 0)\n",
      "14\n",
      "Type 0 if you cooperate, and 1 for not cooperate1\n",
      "(3, 0)\n",
      "17\n",
      "Type 0 if you cooperate, and 1 for not cooperate1\n",
      "(3, 0)\n",
      "20\n"
     ]
    }
   ],
   "source": [
    "import random\n",
    "def payoff():\n",
    "    total=0\n",
    "    for i in range(1,11):\n",
    "        player1=input('Type 0 if you cooperate, and 1 for not cooperate')\n",
    "        player2=random.randint(0,1)\n",
    "   \n",
    "        if int(player1)==0 and int(player2)==0:\n",
    "                  payoff=(2,2)\n",
    "        elif int(player1)==0 and int(player2)==1:\n",
    "                  payoff=(0,3)\n",
    "        elif int(player1)==1 and int(player2)==0:\n",
    "                  payoff=(3,0)\n",
    "        else:\n",
    "                  payoff=(1,1)\n",
    "        print(payoff)\n",
    "        \n",
    "        total=total+payoff[0]\n",
    "        \n",
    "        print(total)\n",
    "        \n",
    "\n",
    "payoff()"
   ]
  },
  {
   "cell_type": "markdown",
   "metadata": {},
   "source": []
  }
 ],
 "metadata": {
  "kernelspec": {
   "display_name": "Python 3",
   "language": "python",
   "name": "python3"
  },
  "language_info": {
   "codemirror_mode": {
    "name": "ipython",
    "version": 3
   },
   "file_extension": ".py",
   "mimetype": "text/x-python",
   "name": "python",
   "nbconvert_exporter": "python",
   "pygments_lexer": "ipython3",
   "version": "3.7.3"
  }
 },
 "nbformat": 4,
 "nbformat_minor": 2
}
