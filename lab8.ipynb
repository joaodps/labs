{
 "cells": [
  {
   "cell_type": "code",
   "execution_count": 4,
   "metadata": {},
   "outputs": [
    {
     "name": "stdout",
     "output_type": "stream",
     "text": [
      "Hi, whats your name? Joao\n"
     ]
    },
    {
     "data": {
      "text/plain": [
       "'Hellow, Joao!'"
      ]
     },
     "execution_count": 4,
     "metadata": {},
     "output_type": "execute_result"
    }
   ],
   "source": [
    "def chat(question,answer):\n",
    "    msg=''\n",
    "    while msg=='':\n",
    "        msg=input(question)\n",
    "    return str(answer)+''+str(msg)+'!'\n",
    "\n",
    "chat('Hi, whats your name? ','Hellow, ')"
   ]
  },
  {
   "cell_type": "code",
   "execution_count": 5,
   "metadata": {},
   "outputs": [
    {
     "name": "stdout",
     "output_type": "stream",
     "text": [
      "whats your problem? \n",
      "whats your problem? wer\n"
     ]
    },
    {
     "data": {
      "text/plain": [
       "'yes of course'"
      ]
     },
     "execution_count": 5,
     "metadata": {},
     "output_type": "execute_result"
    }
   ],
   "source": [
    "def chat(question,answer):\n",
    "    msg=''\n",
    "    while msg=='':\n",
    "        msg=input(question)\n",
    "    return str(answer)\n",
    "\n",
    "chat('whats your problem? ', 'yes of course')\n"
   ]
  },
  {
   "cell_type": "code",
   "execution_count": 5,
   "metadata": {},
   "outputs": [
    {
     "name": "stdout",
     "output_type": "stream",
     "text": [
      "Whats your problem? hb\n",
      "fwefn\n",
      "Whats your problem? none\n",
      "aegr\n"
     ]
    }
   ],
   "source": [
    "import random\n",
    "def chat():\n",
    "    msg=''\n",
    "    while msg!='none':\n",
    "        msg=input('Whats your problem? ')\n",
    "        print(random.choice(answer))\n",
    "\n",
    "answer=['fwefn','bnlkwertfn','awerfae','aegr']\n",
    "\n",
    "chat()"
   ]
  },
  {
   "cell_type": "code",
   "execution_count": null,
   "metadata": {},
   "outputs": [],
   "source": []
  }
 ],
 "metadata": {
  "kernelspec": {
   "display_name": "Python 3",
   "language": "python",
   "name": "python3"
  },
  "language_info": {
   "codemirror_mode": {
    "name": "ipython",
    "version": 3
   },
   "file_extension": ".py",
   "mimetype": "text/x-python",
   "name": "python",
   "nbconvert_exporter": "python",
   "pygments_lexer": "ipython3",
   "version": "3.7.3"
  }
 },
 "nbformat": 4,
 "nbformat_minor": 2
}
