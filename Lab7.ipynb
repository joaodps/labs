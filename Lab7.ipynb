{
 "cells": [
  {
   "cell_type": "code",
   "execution_count": 9,
   "metadata": {},
   "outputs": [],
   "source": [
    "#Supose you have the follwoing cashflow\n",
    "CFList=[-1000, 200, 200, 300, 500]\n",
    "rate= 0.04"
   ]
  },
  {
   "cell_type": "code",
   "execution_count": 10,
   "metadata": {},
   "outputs": [
    {
     "name": "stdout",
     "output_type": "stream",
     "text": [
      "71.3199380273798\n"
     ]
    }
   ],
   "source": [
    "#calcule the NPV sugestion: iterate both by index and value using enume rate\n",
    "\n",
    "NPV=0\n",
    "\n",
    "for i in range(0,len(CFList)):\n",
    "    NPV=NPV+CFList[i]/((1+rate)**i)\n",
    "    \n",
    "print(NPV)    "
   ]
  },
  {
   "cell_type": "code",
   "execution_count": 11,
   "metadata": {},
   "outputs": [],
   "source": [
    "#create a function called NPV that returns the NPV value\n",
    "\n",
    "def npv(cashflow,discountrate):\n",
    "    pv=0\n",
    "    for t, cf in enumerate(cashflow):\n",
    "        pv+=cf/((1+discountrate)**t)\n",
    "    return(pv)    "
   ]
  },
  {
   "cell_type": "code",
   "execution_count": 12,
   "metadata": {},
   "outputs": [
    {
     "name": "stdout",
     "output_type": "stream",
     "text": [
      "71.3199380273798\n"
     ]
    }
   ],
   "source": [
    "print(npv(CFList,rate))"
   ]
  },
  {
   "cell_type": "markdown",
   "metadata": {},
   "source": [
    "create a function to calcule IRR. In order to calculate IRR you may aproximate the follwoing expression:\n",
    "rate= rate*(1-NPV(CFList, rate)/invest"
   ]
  },
  {
   "cell_type": "code",
   "execution_count": 13,
   "metadata": {},
   "outputs": [
    {
     "name": "stdout",
     "output_type": "stream",
     "text": [
      "0.06542842834790366\n"
     ]
    }
   ],
   "source": [
    "def IRR(CFLIst):\n",
    "    rate=1\n",
    "    for i in range(1,100):\n",
    "        rate=rate*(1-npv(CFList,rate)/CFList[0])\n",
    "    return(rate)  \n",
    "\n",
    "print(IRR(CFList))"
   ]
  },
  {
   "cell_type": "code",
   "execution_count": 15,
   "metadata": {},
   "outputs": [
    {
     "name": "stdout",
     "output_type": "stream",
     "text": [
      "3.6\n"
     ]
    }
   ],
   "source": [
    "#pay back period\n",
    "\n",
    "def PaybackPeriod(CFList):\n",
    "    a=0\n",
    "    for n in range(0,len(CFList)):\n",
    "        a=a+CFList[n]\n",
    "        if a >=0:\n",
    "            b=(n-1)+((CFList[n]-a)/(CFList[n]))\n",
    "            return b\n",
    "print(PaybackPeriod(CFList))    "
   ]
  },
  {
   "cell_type": "code",
   "execution_count": null,
   "metadata": {},
   "outputs": [],
   "source": []
  },
  {
   "cell_type": "code",
   "execution_count": null,
   "metadata": {},
   "outputs": [],
   "source": []
  }
 ],
 "metadata": {
  "kernelspec": {
   "display_name": "Python 3",
   "language": "python",
   "name": "python3"
  }
 },
 "nbformat": 4,
 "nbformat_minor": 2
}
