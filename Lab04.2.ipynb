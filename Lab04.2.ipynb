{
 "cells": [
  {
   "cell_type": "code",
   "execution_count": 2,
   "metadata": {},
   "outputs": [
    {
     "name": "stdout",
     "output_type": "stream",
     "text": [
      "[1000.0, 1100.0, 1210.0000000000002, 1331.0000000000005, 1464.1000000000004, 1610.5100000000004]\n"
     ]
    }
   ],
   "source": [
    "salesinit=1000\n",
    "rate=0.1\n",
    "n=6\n",
    "sales=[]\n",
    "for i in range(0,n):\n",
    "    sales.append(salesinit*((1+rate)**i))\n",
    "    \n",
    "print(sales)\n",
    "    \n"
   ]
  },
  {
   "cell_type": "code",
   "execution_count": 3,
   "metadata": {},
   "outputs": [
    {
     "data": {
      "text/plain": [
       "[300.00000000000006,\n",
       " 330.00000000000006,\n",
       " 363.0000000000001,\n",
       " 399.3000000000002,\n",
       " 439.2300000000002,\n",
       " 483.1530000000002]"
      ]
     },
     "execution_count": 3,
     "metadata": {},
     "output_type": "execute_result"
    }
   ],
   "source": [
    "PM=0.7\n",
    "costs=[]\n",
    "for i in sales:\n",
    "    costs.append(i*(1-PM))\n",
    "    \n",
    "costs    "
   ]
  },
  {
   "cell_type": "code",
   "execution_count": 4,
   "metadata": {},
   "outputs": [
    {
     "name": "stdout",
     "output_type": "stream",
     "text": [
      "[700.0, 770.0, 847.0000000000001, 931.7000000000003, 1024.8700000000001, 1127.3570000000002]\n"
     ]
    }
   ],
   "source": [
    "profits=[]\n",
    "for i in range(0,n):\n",
    "    profits.append(sales[i]-costs[i])\n",
    "    \n",
    "print(profits)    "
   ]
  },
  {
   "cell_type": "code",
   "execution_count": 5,
   "metadata": {},
   "outputs": [
    {
     "name": "stdout",
     "output_type": "stream",
     "text": [
      "[200.0, 270.0, 347.0000000000001, 431.7000000000003, 524.8700000000001, 627.3570000000002]\n"
     ]
    }
   ],
   "source": [
    "PM=0.7\n",
    "fixcost=500\n",
    "newprofit=[]\n",
    "for i in sales:\n",
    "    newprofit.append(i*PM-fixcost)\n",
    "    \n",
    "print(newprofit)   \n"
   ]
  },
  {
   "cell_type": "code",
   "execution_count": 6,
   "metadata": {},
   "outputs": [
    {
     "name": "stdout",
     "output_type": "stream",
     "text": [
      "[358, 1806, 1768, 1241, 243, 763]\n"
     ]
    }
   ],
   "source": [
    "import random\n",
    "\n",
    "newsales=[]\n",
    "\n",
    "for i in range(0,len(newprofit)):\n",
    "    newsales.append(random.randint(200,2000))\n",
    "    \n",
    "print(newsales)    "
   ]
  },
  {
   "cell_type": "code",
   "execution_count": 11,
   "metadata": {},
   "outputs": [
    {
     "name": "stdout",
     "output_type": "stream",
     "text": [
      "[-249.4, 764.1999999999998, 737.5999999999999, 368.69999999999993, -329.9, 34.10000000000002]\n"
     ]
    }
   ],
   "source": [
    "margin=0.7\n",
    "fixcost=500\n",
    "newprofit=[]\n",
    "i=0\n",
    "for i in range(n):\n",
    "    newprofit.append((newsales[i]*margin)-fixcost)\n",
    "print(newprofit)    \n"
   ]
  },
  {
   "cell_type": "code",
   "execution_count": null,
   "metadata": {},
   "outputs": [],
   "source": []
  }
 ],
 "metadata": {
  "kernelspec": {
   "display_name": "Python 3",
   "language": "python",
   "name": "python3"
  }
 },
 "nbformat": 4,
 "nbformat_minor": 2
}
